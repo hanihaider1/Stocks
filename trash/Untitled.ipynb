{
 "cells": [
  {
   "cell_type": "code",
   "execution_count": 1,
   "metadata": {},
   "outputs": [],
   "source": [
    "import pandas as pd"
   ]
  },
  {
   "cell_type": "code",
   "execution_count": 4,
   "metadata": {},
   "outputs": [],
   "source": [
    "read_stock_file = pd.read_csv(\"SQ (1).csv\")"
   ]
  },
  {
   "cell_type": "code",
   "execution_count": 5,
   "metadata": {},
   "outputs": [
    {
     "data": {
      "text/html": [
       "<div>\n",
       "<style scoped>\n",
       "    .dataframe tbody tr th:only-of-type {\n",
       "        vertical-align: middle;\n",
       "    }\n",
       "\n",
       "    .dataframe tbody tr th {\n",
       "        vertical-align: top;\n",
       "    }\n",
       "\n",
       "    .dataframe thead th {\n",
       "        text-align: right;\n",
       "    }\n",
       "</style>\n",
       "<table border=\"1\" class=\"dataframe\">\n",
       "  <thead>\n",
       "    <tr style=\"text-align: right;\">\n",
       "      <th></th>\n",
       "      <th>Date</th>\n",
       "      <th>Open</th>\n",
       "      <th>High</th>\n",
       "      <th>Low</th>\n",
       "      <th>Close</th>\n",
       "      <th>Adj Close</th>\n",
       "      <th>Volume</th>\n",
       "    </tr>\n",
       "  </thead>\n",
       "  <tbody>\n",
       "    <tr>\n",
       "      <th>0</th>\n",
       "      <td>2020-03-19</td>\n",
       "      <td>40.180000</td>\n",
       "      <td>47.419998</td>\n",
       "      <td>37.000000</td>\n",
       "      <td>40.000000</td>\n",
       "      <td>40.000000</td>\n",
       "      <td>24555600</td>\n",
       "    </tr>\n",
       "    <tr>\n",
       "      <th>1</th>\n",
       "      <td>2020-03-20</td>\n",
       "      <td>41.849998</td>\n",
       "      <td>43.840000</td>\n",
       "      <td>37.799999</td>\n",
       "      <td>38.090000</td>\n",
       "      <td>38.090000</td>\n",
       "      <td>26896800</td>\n",
       "    </tr>\n",
       "    <tr>\n",
       "      <th>2</th>\n",
       "      <td>2020-03-23</td>\n",
       "      <td>38.470001</td>\n",
       "      <td>40.549999</td>\n",
       "      <td>36.110001</td>\n",
       "      <td>40.009998</td>\n",
       "      <td>40.009998</td>\n",
       "      <td>21783400</td>\n",
       "    </tr>\n",
       "    <tr>\n",
       "      <th>3</th>\n",
       "      <td>2020-03-24</td>\n",
       "      <td>43.500000</td>\n",
       "      <td>48.880001</td>\n",
       "      <td>42.560001</td>\n",
       "      <td>46.310001</td>\n",
       "      <td>46.310001</td>\n",
       "      <td>26174700</td>\n",
       "    </tr>\n",
       "    <tr>\n",
       "      <th>4</th>\n",
       "      <td>2020-03-25</td>\n",
       "      <td>50.290001</td>\n",
       "      <td>58.099998</td>\n",
       "      <td>49.529999</td>\n",
       "      <td>52.389999</td>\n",
       "      <td>52.389999</td>\n",
       "      <td>34929300</td>\n",
       "    </tr>\n",
       "  </tbody>\n",
       "</table>\n",
       "</div>"
      ],
      "text/plain": [
       "         Date       Open       High        Low      Close  Adj Close    Volume\n",
       "0  2020-03-19  40.180000  47.419998  37.000000  40.000000  40.000000  24555600\n",
       "1  2020-03-20  41.849998  43.840000  37.799999  38.090000  38.090000  26896800\n",
       "2  2020-03-23  38.470001  40.549999  36.110001  40.009998  40.009998  21783400\n",
       "3  2020-03-24  43.500000  48.880001  42.560001  46.310001  46.310001  26174700\n",
       "4  2020-03-25  50.290001  58.099998  49.529999  52.389999  52.389999  34929300"
      ]
     },
     "execution_count": 5,
     "metadata": {},
     "output_type": "execute_result"
    }
   ],
   "source": [
    "read_stock_file.head()\n"
   ]
  },
  {
   "cell_type": "code",
   "execution_count": null,
   "metadata": {},
   "outputs": [],
   "source": []
  }
 ],
 "metadata": {
  "kernelspec": {
   "display_name": "Python 3",
   "language": "python",
   "name": "python3"
  },
  "language_info": {
   "codemirror_mode": {
    "name": "ipython",
    "version": 3
   },
   "file_extension": ".py",
   "mimetype": "text/x-python",
   "name": "python",
   "nbconvert_exporter": "python",
   "pygments_lexer": "ipython3",
   "version": "3.7.1"
  }
 },
 "nbformat": 4,
 "nbformat_minor": 2
}
