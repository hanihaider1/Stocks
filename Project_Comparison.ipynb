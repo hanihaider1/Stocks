{
 "cells": [
  {
   "cell_type": "code",
   "execution_count": 2,
   "metadata": {},
   "outputs": [],
   "source": [
    "import pandas as pd\n",
    "import matplotlib.pyplot as plt\n",
    "import numpy as np"
   ]
  },
  {
   "cell_type": "code",
   "execution_count": 12,
   "metadata": {},
   "outputs": [],
   "source": [
    "def get_data():\n",
    "    df1 = pd.read_csv('SQ.csv')\n",
    "    df2 = pd.read_csv('PYPL.csv')\n",
    "    \n",
    "    sq = df1[['Date', 'Adj Close']] \n",
    "    pypl = df2[['Date', 'Adj Close']]"
   ]
  },
  {
   "cell_type": "code",
   "execution_count": 13,
   "metadata": {},
   "outputs": [],
   "source": [
    "def transform_data(sq, pypl):\n",
    "    output1 = pd.merge(sq, pypl, on='Date', how='inner')\n",
    "    output1.columns=['Date', 'SQ_prize', 'PYPL_prize']\n",
    "    \n",
    "    output1.Date=pd.to_datetime(output1.Date)"
   ]
  },
  {
   "cell_type": "code",
   "execution_count": 14,
   "metadata": {},
   "outputs": [],
   "source": [
    "def stock_comparison(output1):\n",
    "    output1.plot(x=\"Date\")\n",
    "    plt.title(\"Closing Prices\", fontsize=16)\n",
    "    plt.ylabel('Price(USD)', fontsize=14)\n",
    "    plt.xlabel('Year', fontsize=14)\n",
    "    plt.show()"
   ]
  },
  {
   "cell_type": "code",
   "execution_count": 16,
   "metadata": {},
   "outputs": [
    {
     "data": {
      "image/png": "[encoded data removed]",
      "text/plain": [
       "<Figure size 432x288 with 1 Axes>"
      ]
     },
     "metadata": {
      "needs_background": "light"
     },
     "output_type": "display_data"
    }
   ],
   "source": [
    "if __name__ == \"__main__\":\n",
    "    get_data()\n",
    "    transform_data(sq, pypl)\n",
    "    stock_comparison(output1)\n",
    "    "
   ]
  },
  {
   "cell_type": "markdown",
   "metadata": {},
   "source": [
    "#need help below, as I convert it into a function, it throws an error\n",
    "\n",
    "Since the High, low and %change part was covered by Hani in summary for sq, we can add another row for pypl and it will be complete there. Doing it again here would be a repitition. So, I'm trying to add a summary of daily returns here."
   ]
  },
  {
   "cell_type": "code",
   "execution_count": 18,
   "metadata": {},
   "outputs": [
    {
     "name": "stderr",
     "output_type": "stream",
     "text": [
      "<ipython-input-18-ea9d11df8f02>:1: SettingWithCopyWarning: \n",
      "A value is trying to be set on a copy of a slice from a DataFrame.\n",
      "Try using .loc[row_indexer,col_indexer] = value instead\n",
      "\n",
      "See the caveats in the documentation: https://pandas.pydata.org/pandas-docs/stable/user_guide/indexing.html#returning-a-view-versus-a-copy\n",
      "  sq['Daily_Returns'] = sq['Adj Close'].shift(1) / sq['Adj Close']  - 1\n",
      "<ipython-input-18-ea9d11df8f02>:2: SettingWithCopyWarning: \n",
      "A value is trying to be set on a copy of a slice from a DataFrame.\n",
      "Try using .loc[row_indexer,col_indexer] = value instead\n",
      "\n",
      "See the caveats in the documentation: https://pandas.pydata.org/pandas-docs/stable/user_guide/indexing.html#returning-a-view-versus-a-copy\n",
      "  pypl['Daily_Returns'] = pypl['Adj Close'].shift(1) / pypl['Adj Close']  - 1\n",
      "<ipython-input-18-ea9d11df8f02>:4: SettingWithCopyWarning: \n",
      "A value is trying to be set on a copy of a slice from a DataFrame.\n",
      "Try using .loc[row_indexer,col_indexer] = value instead\n",
      "\n",
      "See the caveats in the documentation: https://pandas.pydata.org/pandas-docs/stable/user_guide/indexing.html#returning-a-view-versus-a-copy\n",
      "  sq['Log_Returns'] = np.log(sq['Adj Close']) - np.log(sq['Adj Close'].shift(1))\n",
      "<ipython-input-18-ea9d11df8f02>:5: SettingWithCopyWarning: \n",
      "A value is trying to be set on a copy of a slice from a DataFrame.\n",
      "Try using .loc[row_indexer,col_indexer] = value instead\n",
      "\n",
      "See the caveats in the documentation: https://pandas.pydata.org/pandas-docs/stable/user_guide/indexing.html#returning-a-view-versus-a-copy\n",
      "  pypl['Log_Returns'] = np.log(pypl['Adj Close']) - np.log(pypl['Adj Close'].shift(1))\n"
     ]
    }
   ],
   "source": [
    "sq['Daily_Returns'] = sq['Adj Close'].shift(1) / sq['Adj Close']  - 1\n",
    "pypl['Daily_Returns'] = pypl['Adj Close'].shift(1) / pypl['Adj Close']  - 1\n",
    "        \n",
    "sq['Log_Returns'] = np.log(sq['Adj Close']) - np.log(sq['Adj Close'].shift(1))\n",
    "pypl['Log_Returns'] = np.log(pypl['Adj Close']) - np.log(pypl['Adj Close'].shift(1))\n",
    "        "
   ]
  },
  {
   "cell_type": "code",
   "execution_count": 19,
   "metadata": {},
   "outputs": [
    {
     "data": {
      "text/html": [
       "<div>\n",
       "<style scoped>\n",
       "    .dataframe tbody tr th:only-of-type {\n",
       "        vertical-align: middle;\n",
       "    }\n",
       "\n",
       "    .dataframe tbody tr th {\n",
       "        vertical-align: top;\n",
       "    }\n",
       "\n",
       "    .dataframe thead th {\n",
       "        text-align: right;\n",
       "    }\n",
       "</style>\n",
       "<table border=\"1\" class=\"dataframe\">\n",
       "  <thead>\n",
       "    <tr style=\"text-align: right;\">\n",
       "      <th></th>\n",
       "      <th>Adj Close</th>\n",
       "      <th>Daily_Returns</th>\n",
       "      <th>Log_Returns</th>\n",
       "    </tr>\n",
       "  </thead>\n",
       "  <tbody>\n",
       "    <tr>\n",
       "      <th>count</th>\n",
       "      <td>1258.000000</td>\n",
       "      <td>1257.000000</td>\n",
       "      <td>1257.000000</td>\n",
       "    </tr>\n",
       "    <tr>\n",
       "      <th>mean</th>\n",
       "      <td>68.660882</td>\n",
       "      <td>-0.001607</td>\n",
       "      <td>0.002210</td>\n",
       "    </tr>\n",
       "    <tr>\n",
       "      <th>std</th>\n",
       "      <td>58.777789</td>\n",
       "      <td>0.035301</td>\n",
       "      <td>0.034457</td>\n",
       "    </tr>\n",
       "    <tr>\n",
       "      <th>min</th>\n",
       "      <td>8.620000</td>\n",
       "      <td>-0.136040</td>\n",
       "      <td>-0.336334</td>\n",
       "    </tr>\n",
       "    <tr>\n",
       "      <th>25%</th>\n",
       "      <td>24.227500</td>\n",
       "      <td>-0.018659</td>\n",
       "      <td>-0.012871</td>\n",
       "    </tr>\n",
       "    <tr>\n",
       "      <th>50%</th>\n",
       "      <td>61.750000</td>\n",
       "      <td>-0.003898</td>\n",
       "      <td>0.003905</td>\n",
       "    </tr>\n",
       "    <tr>\n",
       "      <th>75%</th>\n",
       "      <td>76.637499</td>\n",
       "      <td>0.012954</td>\n",
       "      <td>0.018835</td>\n",
       "    </tr>\n",
       "    <tr>\n",
       "      <th>max</th>\n",
       "      <td>276.570007</td>\n",
       "      <td>0.399806</td>\n",
       "      <td>0.146229</td>\n",
       "    </tr>\n",
       "  </tbody>\n",
       "</table>\n",
       "</div>"
      ],
      "text/plain": [
       "         Adj Close  Daily_Returns  Log_Returns\n",
       "count  1258.000000    1257.000000  1257.000000\n",
       "mean     68.660882      -0.001607     0.002210\n",
       "std      58.777789       0.035301     0.034457\n",
       "min       8.620000      -0.136040    -0.336334\n",
       "25%      24.227500      -0.018659    -0.012871\n",
       "50%      61.750000      -0.003898     0.003905\n",
       "75%      76.637499       0.012954     0.018835\n",
       "max     276.570007       0.399806     0.146229"
      ]
     },
     "execution_count": 19,
     "metadata": {},
     "output_type": "execute_result"
    }
   ],
   "source": [
    "sq.describe()"
   ]
  },
  {
   "cell_type": "code",
   "execution_count": 20,
   "metadata": {},
   "outputs": [
    {
     "data": {
      "text/html": [
       "<div>\n",
       "<style scoped>\n",
       "    .dataframe tbody tr th:only-of-type {\n",
       "        vertical-align: middle;\n",
       "    }\n",
       "\n",
       "    .dataframe tbody tr th {\n",
       "        vertical-align: top;\n",
       "    }\n",
       "\n",
       "    .dataframe thead th {\n",
       "        text-align: right;\n",
       "    }\n",
       "</style>\n",
       "<table border=\"1\" class=\"dataframe\">\n",
       "  <thead>\n",
       "    <tr style=\"text-align: right;\">\n",
       "      <th></th>\n",
       "      <th>Adj Close</th>\n",
       "      <th>Daily_Returns</th>\n",
       "      <th>Log_Returns</th>\n",
       "    </tr>\n",
       "  </thead>\n",
       "  <tbody>\n",
       "    <tr>\n",
       "      <th>count</th>\n",
       "      <td>1258.000000</td>\n",
       "      <td>1257.000000</td>\n",
       "      <td>1257.000000</td>\n",
       "    </tr>\n",
       "    <tr>\n",
       "      <th>mean</th>\n",
       "      <td>99.449304</td>\n",
       "      <td>-0.001239</td>\n",
       "      <td>0.001479</td>\n",
       "    </tr>\n",
       "    <tr>\n",
       "      <th>std</th>\n",
       "      <td>57.777808</td>\n",
       "      <td>0.021907</td>\n",
       "      <td>0.021902</td>\n",
       "    </tr>\n",
       "    <tr>\n",
       "      <th>min</th>\n",
       "      <td>34.200001</td>\n",
       "      <td>-0.123651</td>\n",
       "      <td>-0.172259</td>\n",
       "    </tr>\n",
       "    <tr>\n",
       "      <th>25%</th>\n",
       "      <td>54.345001</td>\n",
       "      <td>-0.012106</td>\n",
       "      <td>-0.007997</td>\n",
       "    </tr>\n",
       "    <tr>\n",
       "      <th>50%</th>\n",
       "      <td>85.884998</td>\n",
       "      <td>-0.001521</td>\n",
       "      <td>0.001522</td>\n",
       "    </tr>\n",
       "    <tr>\n",
       "      <th>75%</th>\n",
       "      <td>112.164999</td>\n",
       "      <td>0.008029</td>\n",
       "      <td>0.012180</td>\n",
       "    </tr>\n",
       "    <tr>\n",
       "      <th>max</th>\n",
       "      <td>304.790009</td>\n",
       "      <td>0.187985</td>\n",
       "      <td>0.131991</td>\n",
       "    </tr>\n",
       "  </tbody>\n",
       "</table>\n",
       "</div>"
      ],
      "text/plain": [
       "         Adj Close  Daily_Returns  Log_Returns\n",
       "count  1258.000000    1257.000000  1257.000000\n",
       "mean     99.449304      -0.001239     0.001479\n",
       "std      57.777808       0.021907     0.021902\n",
       "min      34.200001      -0.123651    -0.172259\n",
       "25%      54.345001      -0.012106    -0.007997\n",
       "50%      85.884998      -0.001521     0.001522\n",
       "75%     112.164999       0.008029     0.012180\n",
       "max     304.790009       0.187985     0.131991"
      ]
     },
     "execution_count": 20,
     "metadata": {},
     "output_type": "execute_result"
    }
   ],
   "source": [
    "pypl.describe()"
   ]
  },
  {
   "cell_type": "code",
   "execution_count": null,
   "metadata": {},
   "outputs": [],
   "source": []
  }
 ],
 "metadata": {
  "kernelspec": {
   "display_name": "Python 3",
   "language": "python",
   "name": "python3"
  },
  "language_info": {
   "codemirror_mode": {
    "name": "ipython",
    "version": 3
   },
   "file_extension": ".py",
   "mimetype": "text/x-python",
   "name": "python",
   "nbconvert_exporter": "python",
   "pygments_lexer": "ipython3",
   "version": "3.8.5"
  }
 },
 "nbformat": 4,
 "nbformat_minor": 4
}
