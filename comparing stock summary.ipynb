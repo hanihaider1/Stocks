{
 "cells": [
  {
   "cell_type": "code",
   "execution_count": null,
   "metadata": {},
   "outputs": [],
   "source": [
    " def summary(self):\n",
    "        '''\n",
    "        Method:summary: gets the complete summary of stocks \n",
    "        Parameter:\n",
    "        Self-- the current object:\n",
    "        Returns the complete summary which will have stock price and date, where \n",
    "        it was  highest stock, lowest stock, largest moving up in a single day\n",
    "        % and largest moving downward in a single day by %\n",
    "        '''\n",
    "        max_value = self.stock_file.loc[self.stock_file['Close'].idxmax()]\n",
    "        min_value = self.stock_file.loc[self.stock_file['Close'].idxmin()]\n",
    "        self.stock_file[\"Largest percent\"]= ((self.stock_file[\"Close\"]-self.stock_file[\"Open\"])/self.stock_file[\"Close\"])*100\n",
    "        max_percentage = self.stock_file.loc[self.stock_file['Largest percent'].idxmax()]\n",
    "        min_percentage = self.stock_file.loc[self.stock_file['Largest percent'].idxmin()]\n",
    "        \n",
    "        summary = {'summary': [\"Price\",\"Date\"],'Highest High': [max_value[\"Close\"],max_value[\"Date\"]],\n",
    "        'Lowest Low': [min_value[\"Close\"],min_value[\"Date\"]],\n",
    "           'Largest Move Up in a single day %': [max_percentage[\"Largest percent\"],max_percentage[\"Date\"]],\n",
    "           'Largest Move Downward in a single day%': [min_percentage[\"Largest percent\"],min_percentage[\"Date\"]],\n",
    "        }\n",
    "        \n",
    "        df = pd.DataFrame(summary, columns = ['summary', 'Highest High','Lowest Low','Largest Move Up in a single day %','Largest Move Downward in a single day%'])\n",
    "        \n",
    "        return df\n",
    "        \n",
    "    \n",
    "    \n",
    "       \n",
    "\n",
    "    \n",
    "    "
   ]
  },
  {
   "cell_type": "code",
   "execution_count": 21,
   "metadata": {},
   "outputs": [
    {
     "name": "stdout",
     "output_type": "stream",
     "text": [
      "  summary  Highest Price  Lowest Price  Percentage Change %\n",
      "0      SQ     276.570007      8.620000            10.185825\n",
      "1    PYPL     304.790009     34.200001             8.742628\n"
     ]
    }
   ],
   "source": [
    "def Comparingstock_summary(self):\n",
    "\n",
    "stock_file=pd.read_csv('SQ.csv')\n",
    "stock_newfile=pd.read_csv('PYPL.csv')\n",
    "\n",
    "max_value = self.stock_file.loc[self.stock_file['Close'].idxmax()]\n",
    "min_value = self.stock_file.loc[self.stock_file['Close'].idxmin()]\n",
    "\n",
    "max_value1= self.stock_newfile.loc[self.stock_newfile['Close'].idxmax()]\n",
    "min_value1 =self.stock_newfile.loc[self.stock_newfile['Close'].idxmin()]\n",
    "\n",
    " \n",
    "self.stock_file[\"Largest percent\"]= ((self.stock_file[\"Close\"]-self.stock_file[\"Open\"])/self.stock_file[\"Close\"])*100\n",
    "self.stock_newfile[\"Largest percent\"]= ((self.stock_newfile[\"Close\"]-self.stock_newfile[\"Open\"])/self.stock_newfile[\"Close\"])*100\n",
    "        \n",
    "percentage = self.stock_file.loc[self.stock_file['Largest percent'].idxmax()]\n",
    "percentage1 = self.stock_newfile.loc[self.stock_newfile['Largest percent'].idxmax()]\n",
    "        \n",
    "#print(percentage)        \n",
    "#print(percentage1)  \n",
    "        \n",
    "summary = {'summary': [\"SQ\", \"PYPL\"],'Highest Price': [max_value[\"Close\"],max_value1[\"Close\"]],\n",
    "        'Lowest Price': [min_value[\"Close\"],min_value1[\"Close\"]],'Percentage Change %': [percentage[\"Largest percent\"],percentage1[\"Largest percent\"]]}\n",
    "        \n",
    "df = pd.DataFrame(summary, columns = ['summary', 'Highest Price','Lowest Price','Percentage Change %'])\n",
    "        \n",
    "print(df)      \n",
    "#print(summary)\n",
    "    "
   ]
  },
  {
   "cell_type": "code",
   "execution_count": null,
   "metadata": {},
   "outputs": [],
   "source": []
  }
 ],
 "metadata": {
  "kernelspec": {
   "display_name": "Python 3",
   "language": "python",
   "name": "python3"
  },
  "language_info": {
   "codemirror_mode": {
    "name": "ipython",
    "version": 3
   },
   "file_extension": ".py",
   "mimetype": "text/x-python",
   "name": "python",
   "nbconvert_exporter": "python",
   "pygments_lexer": "ipython3",
   "version": "3.8.5"
  }
 },
 "nbformat": 4,
 "nbformat_minor": 4
}
